{
  "nbformat": 4,
  "nbformat_minor": 0,
  "metadata": {
    "colab": {
      "provenance": []
    },
    "kernelspec": {
      "name": "python3",
      "display_name": "Python 3"
    },
    "language_info": {
      "name": "python"
    }
  },
  "cells": [
    {
      "cell_type": "markdown",
      "source": [
        "**RESERVATION APP**"
      ],
      "metadata": {
        "id": "J1x4X3edxUE-"
      }
    },
    {
      "cell_type": "code",
      "execution_count": null,
      "metadata": {
        "id": "NZM_i6Oqw0v6"
      },
      "outputs": [],
      "source": [
        "# Author: Romaine Sanchez\n",
        "# Date Created: 06/12/2023\n",
        "# Course ITT103\n",
        "# This program will allow user to make reservation on UCC Signature Express Limited"
      ]
    },
    {
      "cell_type": "code",
      "source": [
        "# Reservation on UCC Signature Express Limited\n",
        "\n",
        "# Declare variables for seat capacity\n",
        "\n",
        "First_Class = 27\n",
        "Business_Class = 38\n",
        "Economy_Class = 56\n",
        "choice = input\n",
        "\n",
        "totalSeats = 0\n",
        "totalReservedSeats = 0\n",
        "ClassType = \"\"\n",
        "\n",
        "# Declare seat arrays\n",
        "first_class_seats = [[0] * 9 for _ in range(3)]\n",
        "business_class_seats = [[0] * 19 for _ in range(2)]\n",
        "economy_class_seats = [[0] * 14 for _ in range(4)]\n",
        "\n",
        "# Function to display reservation\n",
        "def DisplayMenu():\n",
        "  print('UCC Signature Express Limited')\n",
        "  print('We Will Take You There')\n",
        "  print('Reservation Options:')\n",
        "  print(' First Class (F/f)')\n",
        "  print(' Business Class (B/b)')\n",
        "  print(' Economy Class (E/e)')\n",
        "  print(' Quit or Cancel (Q/q)')\n",
        "\n",
        "  while True:\n",
        "    choice = input('Please select an option: ')\n",
        "\n",
        "    if choice.upper() == 'F':\n",
        "      totalSeats = First_Class\n",
        "      ClassType = 'First Class'\n",
        "      row = int(input('Enter row number (1-9): '))\n",
        "      if 0 < row <= 9:\n",
        "        seatType = input(\"Enter seat type: Aisle (A/a), Window (W/w), or Cancel (C/c): \")\n",
        "        ReserveSeat(row, seatType, first_class_seats, ClassType)\n",
        "        break\n",
        "      else:\n",
        "        print(\"Invalid row number. Please choose between 1 and 9.\")\n",
        "        continue\n",
        "\n",
        "    elif choice.upper() == 'B':\n",
        "      totalSeats = Business_Class\n",
        "      ClassType = \"Business Class\"\n",
        "      row = int(input(\"Enter row number (1-19): \"))\n",
        "      if 0 < row <= 19:\n",
        "        seatType = input(\"Enter seat type: Aisle (A/a), Window (W/w), or Cancel (C/c): \")\n",
        "        ReserveSeat(row, seatType, business_class_seats, ClassType)\n",
        "        break\n",
        "      else:\n",
        "        print(\"Invalid row number. Please choose between 1 and 19.\")\n",
        "        continue\n",
        "\n",
        "    elif choice.upper() == 'E':\n",
        "      totalSeats = Economy_Class\n",
        "      ClassType = \"Economy Class\"\n",
        "      row = int(input(\"Enter row number (1-14): \"))\n",
        "      if 0 < row <= 14:\n",
        "        seatType = input(\"Enter seat type: Aisle (A/a), Window (W/w), or Cancel (C/c): \")\n",
        "        ReserveSeat(row, seatType, economy_class_seats, ClassType)\n",
        "        break\n",
        "      else:\n",
        "        print(\"Invalid row number. Please choose between 1 and 14.\")\n",
        "        continue\n",
        "\n",
        "    elif choice.upper() == 'Q':\n",
        "      print(\"Reservation Type:\", ClassType)\n",
        "      print(\"Total number of seats:\", totalSeats)\n",
        "      print(\"Total number of seats reserved:\", totalReservedSeats)\n",
        "      break\n",
        "    else:\n",
        "      print(\"Invalid choice! Please select from 'F', 'B', 'E', or 'Q'.\")\n",
        "      continue\n",
        "\n",
        "# Function to reserve a seat\n",
        "def ReserveSeat(row, seatType, seats, classType):\n",
        "    global totalReservedSeats\n",
        "    if seatType.upper() == 'A':\n",
        "        if seats[row-1][0] == 0:\n",
        "            seats[row-1][0] = 1\n",
        "            print(\"Seat reserved successfully in\", classType)\n",
        "            totalReservedSeats += 1\n",
        "        else:\n",
        "            print(\"Seat already reserved!\")\n",
        "    elif seatType.upper() == 'W':\n",
        "        if seats[row-1][-1] == 0:\n",
        "            seats[row-1][-1] = 1\n",
        "            print(\"Seat reserved successfully in\", classType)\n",
        "            totalReservedSeats += 1\n",
        "        else:\n",
        "            print(\"Seat already reserved!\")\n",
        "    elif seatType.upper() == 'C':\n",
        "        print(\"Reservation canceled.\")\n",
        "    else:\n",
        "        print(\"Invalid seat type!\")\n",
        "\n",
        "while True:\n",
        "  DisplayMenu()\n",
        "  if input('Do you want to make another reservation? (Y/N): ').upper() != 'Y':\n",
        "    print('Exiting the reservation system. Goodbye!')\n",
        "    break\n"
      ],
      "metadata": {
        "id": "VqEr-1UlyVNa"
      },
      "execution_count": null,
      "outputs": []
    }
  ]
}